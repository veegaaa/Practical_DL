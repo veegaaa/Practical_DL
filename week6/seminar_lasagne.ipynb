{
 "cells": [
  {
   "cell_type": "markdown",
   "metadata": {},
   "source": [
    "### Generating names with recurrent neural networks (5 points)\n",
    "\n",
    "This time you'll find yourself delving into the heart (and other intestines) of recurrent neural networks on a class of toy problems.\n",
    "\n",
    "Struggle to find a name for the variable? Let's see how you'll come up with a name for your son/daughter. Surely no human has expertize over what is a good child name, so let us train RNN instead;\n",
    "\n",
    "It's dangerous to go alone, take these:"
   ]
  },
  {
   "cell_type": "code",
   "execution_count": 1,
   "metadata": {},
   "outputs": [
    {
     "name": "stdout",
     "output_type": "stream",
     "text": [
      "Collecting https://github.com/yandexdataschool/agentnet/archive/master.zip\n",
      "  Downloading https://github.com/yandexdataschool/agentnet/archive/master.zip\n",
      "\u001b[K     - 11.7MB 77.4MB/ss\n",
      "Installing collected packages: agentnet\n",
      "  Running setup.py install for agentnet ... \u001b[?25ldone\n",
      "\u001b[?25hSuccessfully installed agentnet-0.10.6\n"
     ]
    }
   ],
   "source": [
    "!pip install --no-deps https://github.com/yandexdataschool/agentnet/archive/master.zip"
   ]
  },
  {
   "cell_type": "code",
   "execution_count": null,
   "metadata": {
    "collapsed": true
   },
   "outputs": [],
   "source": [
    "!pip uninstall Lasagne\n"
   ]
  },
  {
   "cell_type": "code",
   "execution_count": null,
   "metadata": {
    "collapsed": true
   },
   "outputs": [],
   "source": [
    "!pip uninstall nolearn"
   ]
  },
  {
   "cell_type": "code",
   "execution_count": null,
   "metadata": {
    "collapsed": true
   },
   "outputs": [],
   "source": [
    "!pip install -r https://raw.githubusercontent.com/dnouri/kfkd-tutorial/master/requirements.txt"
   ]
  },
  {
   "cell_type": "code",
   "execution_count": null,
   "metadata": {
    "collapsed": true
   },
   "outputs": [],
   "source": [
    "!pip install --no-deps --no-cache-dir git+https://github.com/Theano/Theano.git@0282eac71106baa0c99af8ec98afe042b4e8d4d5"
   ]
  },
  {
   "cell_type": "code",
   "execution_count": null,
   "metadata": {
    "collapsed": true
   },
   "outputs": [],
   "source": [
    "!pip install --upgrade --no-deps https://github.com/Theano/Theano/archive/master.zip"
   ]
  },
  {
   "cell_type": "code",
   "execution_count": null,
   "metadata": {
    "collapsed": true
   },
   "outputs": [],
   "source": [
    "!pip install -r https://raw.githubusercontent.com/Lasagne/Lasagne/v0.1/requirements.txt"
   ]
  },
  {
   "cell_type": "code",
   "execution_count": 2,
   "metadata": {
    "collapsed": true
   },
   "outputs": [],
   "source": [
    "import numpy as np\n",
    "import theano\n",
    "import theano.tensor as T\n",
    "import lasagne\n",
    "import os\n",
    "#thanks @keskarnitish"
   ]
  },
  {
   "cell_type": "code",
   "execution_count": 3,
   "metadata": {
    "collapsed": true
   },
   "outputs": [],
   "source": [
    "start_token = \" \"\n",
    "\n",
    "with open(\"names\") as f:\n",
    "    names = f.read()[:-1].split('\\n')\n",
    "    names = [start_token+name for name in names]\n",
    "    "
   ]
  },
  {
   "cell_type": "code",
   "execution_count": 4,
   "metadata": {},
   "outputs": [
    {
     "name": "stdout",
     "output_type": "stream",
     "text": [
      "n samples =  7944\n",
      " Abagael\n",
      " Claresta\n",
      " Glory\n",
      " Liliane\n",
      " Prissie\n",
      " Geeta\n",
      " Giovanne\n",
      " Piggy\n"
     ]
    }
   ],
   "source": [
    "print ('n samples = ',len(names))\n",
    "for x in names[::1000]:\n",
    "    print (x)"
   ]
  },
  {
   "cell_type": "markdown",
   "metadata": {},
   "source": [
    "# Text processing"
   ]
  },
  {
   "cell_type": "code",
   "execution_count": 5,
   "metadata": {},
   "outputs": [
    {
     "name": "stdout",
     "output_type": "stream",
     "text": [
      "n_tokens =  55\n"
     ]
    }
   ],
   "source": [
    "#all unique characters go here\n",
    "tokens = set(\"\".join(names))\n",
    "\n",
    "tokens = list(tokens)\n",
    "print ('n_tokens = ',len(tokens))\n"
   ]
  },
  {
   "cell_type": "code",
   "execution_count": 6,
   "metadata": {
    "collapsed": true
   },
   "outputs": [],
   "source": [
    "#!token_to_id = <dictionary of symbol -> its identifier (index in tokens list)>\n",
    "token_to_id = {t:i for i,t in enumerate(tokens) }\n",
    "\n",
    "#!id_to_token = < dictionary of symbol identifier -> symbol itself>\n",
    "id_to_token = {i:t for i,t in enumerate(tokens)}"
   ]
  },
  {
   "cell_type": "code",
   "execution_count": 7,
   "metadata": {},
   "outputs": [
    {
     "data": {
      "image/png": "[encoded data removed]",
      "text/plain": [
       "<matplotlib.figure.Figure at 0x7f4556a36588>"
      ]
     },
     "metadata": {},
     "output_type": "display_data"
    }
   ],
   "source": [
    "import matplotlib.pyplot as plt\n",
    "%matplotlib inline\n",
    "plt.hist(list(map(len,names)),bins=25);\n",
    "\n"
   ]
  },
  {
   "cell_type": "code",
   "execution_count": 10,
   "metadata": {
    "collapsed": true
   },
   "outputs": [],
   "source": [
    "# truncate names longer than MAX_LEN characters. \n",
    "MAX_LEN = 20\n",
    "\n",
    "#you will likely need to change this for any dataset different from \"names\"\n"
   ]
  },
  {
   "cell_type": "markdown",
   "metadata": {},
   "source": [
    "### Cast everything from symbols into identifiers"
   ]
  },
  {
   "cell_type": "code",
   "execution_count": 11,
   "metadata": {
    "collapsed": true
   },
   "outputs": [],
   "source": [
    "names_ix = list(map(lambda name: list(map(token_to_id.get,name)),names))\n",
    "\n",
    "\n",
    "#crop long names and pad short ones\n",
    "for i in range(len(names_ix)):\n",
    "    names_ix[i] = names_ix[i][:MAX_LEN] #crop too long\n",
    "    \n",
    "    if len(names_ix[i]) < MAX_LEN:\n",
    "        names_ix[i] += [token_to_id[\" \"]]*(MAX_LEN - len(names_ix[i])) #pad too short\n",
    "        \n",
    "assert len(set(map(len,names_ix)))==1\n",
    "\n",
    "names_ix = np.array(names_ix)"
   ]
  },
  {
   "cell_type": "markdown",
   "metadata": {},
   "source": [
    "# Input variables"
   ]
  },
  {
   "cell_type": "code",
   "execution_count": 12,
   "metadata": {
    "collapsed": true
   },
   "outputs": [],
   "source": [
    "input_sequence = T.matrix('token sequencea','int32')\n",
    "target_values = T.matrix('actual next token','int32')\n"
   ]
  },
  {
   "cell_type": "markdown",
   "metadata": {},
   "source": [
    "# Build NN\n",
    "\n",
    "You will be building a model that takes token sequence and predicts next token\n",
    "\n",
    "\n",
    "* iput sequence\n",
    "* one-hot / embedding\n",
    "* recurrent layer(s)\n",
    "* otput layer(s) that predict output probabilities\n"
   ]
  },
  {
   "cell_type": "code",
   "execution_count": 14,
   "metadata": {
    "collapsed": true
   },
   "outputs": [],
   "source": [
    "from lasagne.layers import InputLayer,DenseLayer,EmbeddingLayer\n",
    "from lasagne.layers import RecurrentLayer,LSTMLayer,GRULayer,CustomRecurrentLayer"
   ]
  },
  {
   "cell_type": "code",
   "execution_count": 16,
   "metadata": {
    "collapsed": true
   },
   "outputs": [],
   "source": [
    "\n",
    "l_in = lasagne.layers.InputLayer(shape=(None, None),input_var=input_sequence)\n",
    "\n",
    "#!<Your neural network>\n",
    "l_emb = EmbeddingLayer(l_in, len(tokens), 8)\n",
    "\n",
    "l_rnn = GRULayer(l_emb, 32)\n",
    "\n",
    "#flatten batch and time to be compatible with feedforward layers (will un-flatten later)\n",
    "l_rnn_flat = lasagne.layers.reshape(l_rnn, (-1,l_rnn.output_shape[-1]))\n",
    "\n",
    "l_out = DenseLayer(l_rnn_flat, len(tokens), nonlinearity=lasagne.nonlinearities.softmax)\n",
    "\n",
    "RecurrentLayer()\n"
   ]
  },
  {
   "cell_type": "code",
   "execution_count": 17,
   "metadata": {},
   "outputs": [
    {
     "name": "stdout",
     "output_type": "stream",
     "text": [
      "[W, W_in_to_updategate, W_hid_to_updategate, b_updategate, W_in_to_resetgate, W_hid_to_resetgate, b_resetgate, W_in_to_hidden_update, W_hid_to_hidden_update, b_hidden_update, W, b]\n"
     ]
    }
   ],
   "source": [
    "# Model weights\n",
    "weights = lasagne.layers.get_all_params(l_out,trainable=True)\n",
    "print (weights)"
   ]
  },
  {
   "cell_type": "code",
   "execution_count": 14,
   "metadata": {
    "collapsed": true
   },
   "outputs": [],
   "source": [
    "network_output = lasagne.layers.get_output(l_out)\n",
    "#If you use dropout do not forget to create deterministic version for evaluation"
   ]
  },
  {
   "cell_type": "code",
   "execution_count": null,
   "metadata": {
    "collapsed": true
   },
   "outputs": [],
   "source": []
  },
  {
   "cell_type": "code",
   "execution_count": 17,
   "metadata": {
    "collapsed": true
   },
   "outputs": [],
   "source": [
    "\n",
    "predicted_probabilities_flat = network_output\n",
    "correct_answers_flat = target_values.ravel()\n",
    "\n",
    "loss = lasagne.objectives.categorical_crossentropy(predicted_probabilities_flat, correct_answers_flat).mean()\n",
    "\n",
    "updates = lasagne.updates.adam(loss, weights)"
   ]
  },
  {
   "cell_type": "markdown",
   "metadata": {},
   "source": [
    "# Compiling it"
   ]
  },
  {
   "cell_type": "code",
   "execution_count": 18,
   "metadata": {},
   "outputs": [
    {
     "name": "stderr",
     "output_type": "stream",
     "text": [
      "WARNING (theano.configdefaults): install mkl with `conda install mkl-service`: No module named 'mkl'\n"
     ]
    }
   ],
   "source": [
    "\n",
    "#training\n",
    "train = theano.function([input_sequence, target_values], loss, updates=updates, allow_input_downcast=True)\n",
    "\n",
    "#computing loss without training\n",
    "compute_cost = theano.function([input_sequence, target_values], loss, allow_input_downcast=True)\n"
   ]
  },
  {
   "cell_type": "markdown",
   "metadata": {},
   "source": [
    "# generation\n",
    "\n",
    "Simple: \n",
    "* get initial context(seed), \n",
    "* predict next token probabilities,\n",
    "* sample next token, \n",
    "* add it to the context\n",
    "* repeat from step 2\n",
    "\n",
    "You'll get a more detailed info on how it works in the homework section."
   ]
  },
  {
   "cell_type": "code",
   "execution_count": 19,
   "metadata": {
    "collapsed": true
   },
   "outputs": [],
   "source": [
    "#compile the function that computes probabilities for next token given previous text.\n",
    "\n",
    "#reshape back into original shape\n",
    "next_word_probas = network_output.reshape((input_sequence.shape[0],input_sequence.shape[1],len(tokens)))\n",
    "#predictions for next tokens (after sequence end)\n",
    "last_word_probas = next_word_probas[:,-1]\n",
    "probs = theano.function([input_sequence],last_word_probas,allow_input_downcast=True)\n"
   ]
  },
  {
   "cell_type": "code",
   "execution_count": 20,
   "metadata": {
    "collapsed": true
   },
   "outputs": [],
   "source": [
    "\n",
    "def generate_sample(seed_phrase=None,N=MAX_LEN,t=1,n_snippets=1):\n",
    "    '''\n",
    "    The function generates text given a phrase of length at least SEQ_LENGTH.\n",
    "        \n",
    "    parameters:\n",
    "        sample_fun - max_ or proportional_sample_fun or whatever else you implemented\n",
    "        \n",
    "        The phrase is set using the variable seed_phrase\n",
    "\n",
    "        The optional input \"N\" is used to set the number of characters of text to predict.     \n",
    "    '''\n",
    "    if seed_phrase is None:\n",
    "        seed_phrase=start_token\n",
    "    if len(seed_phrase) > MAX_LEN:\n",
    "        seed_phrase = seed_phrase[-MAX_LEN:]\n",
    "    assert type(seed_phrase) is str\n",
    "\n",
    "    snippets = []\n",
    "    for _ in range(n_snippets):\n",
    "        sample_ix = []\n",
    "        x = list(map(lambda c: token_to_id.get(c,0), seed_phrase))\n",
    "        x = np.array([x])\n",
    "\n",
    "        for i in range(N):\n",
    "            # Pick the character that got assigned the highest probability\n",
    "            p = probs(x).ravel()\n",
    "            p = p**t / np.sum(p**t)\n",
    "            ix = np.random.choice(np.arange(len(tokens)),p=p)\n",
    "            sample_ix.append(ix)\n",
    "\n",
    "            x = np.hstack((x[-MAX_LEN+1:],[[ix]]))\n",
    "\n",
    "        random_snippet = seed_phrase + ''.join(id_to_token[ix] for ix in sample_ix)    \n",
    "        snippets.append(random_snippet)\n",
    "        \n",
    "    print(\"----\\n %s \\n----\" % '; '.join(snippets))\n"
   ]
  },
  {
   "cell_type": "markdown",
   "metadata": {},
   "source": [
    "# Model training\n",
    "\n",
    "Here you can tweak parameters or insert your generation function\n",
    "\n",
    "\n",
    "__Once something word-like starts generating, try increasing seq_length__\n",
    "\n"
   ]
  },
  {
   "cell_type": "code",
   "execution_count": 21,
   "metadata": {
    "collapsed": true
   },
   "outputs": [],
   "source": [
    "def sample_batch(data, batch_size):\n",
    "    \n",
    "    rows = data[np.random.randint(0,len(data),size=batch_size)]\n",
    "    \n",
    "    return rows[:,:-1],rows[:,1:]"
   ]
  },
  {
   "cell_type": "code",
   "execution_count": 23,
   "metadata": {
    "scrolled": true
   },
   "outputs": [
    {
     "name": "stdout",
     "output_type": "stream",
     "text": [
      "Training ...\n",
      "Generated names\n",
      "----\n",
      "  FSdlnle         t   ;  V e                 ;  eunnlnal            ;  xsrt                ;  sfntnheeend         ;  J tn  r             ;   iiinclH            ;  -Aiansln            ;  renisln d           ;  aaiai                \n",
      "----\n",
      "Epoch 0 average loss = 0.9847698081947972\n",
      "Generated names\n",
      "----\n",
      "  Tattia              ;  Urern               ;  baaieote            ;  Gganhlae            ;  Seaag               ;  Ltdy                ;  Meiin               ;  A  la               ;  Dvtddio n           ;  Parealo              \n",
      "----\n",
      "Epoch 1 average loss = 0.9214600268116506\n",
      "Generated names\n",
      "----\n",
      "  Sysrhty             ;  Olin                ;  Lcegieha            ;  Kedorane            ;  Hale                ;  Abeihiih            ;  Audertur            ;  Galicha             ;  Gaaty               ;  Boire                \n",
      "----\n",
      "Epoch 2 average loss = 0.8919142310949052\n",
      "Generated names\n",
      "----\n",
      "  Alceid              ;  Erelye              ;  Lasiny              ;  Wea                 ;  Tywa                ;  Carsa               ;  Derlon              ;  Gleldarent          ;  Lirety              ;  Mouce                \n",
      "----\n",
      "Epoch 3 average loss = 0.8770168246368604\n",
      "Generated names\n",
      "----\n",
      "  Cecina              ;  Dafeym              ;  Totila              ;  Aliqye              ;  Jirelie             ;  Enlinla             ;  Janwy               ;  Tult-isda           ;  Mare                ;  Spia                 \n",
      "----\n",
      "Epoch 4 average loss = 0.86848042569394\n",
      "Generated names\n",
      "----\n",
      "  Kancah              ;  EL                  ;  Jeadi               ;  Erirhay             ;  Anoembanal          ;  Genarerdon          ;  Ciegy               ;  Anadi               ;  Wenteepy            ;  Axte                 \n",
      "----\n",
      "Epoch 5 average loss = 0.8573050742765703\n",
      "Generated names\n",
      "----\n",
      "  Nerush              ;  Toobs               ;  Marry               ;  Laise               ;  Calin               ;  Dildla              ;  Lucsay              ;  JeLe                ;  Nalare              ;  Swfer                \n",
      "----\n",
      "Epoch 6 average loss = 0.8493829718089292\n",
      "Generated names\n",
      "----\n",
      "  Roalyn              ;  Sarves              ;  E rine              ;  Carephy             ;  Resraum             ;  Corisea             ;  Torleltl            ;  Deita               ;  Alyme               ;  Galis                \n",
      "----\n",
      "Epoch 7 average loss = 0.8386585221282011\n",
      "Generated names\n",
      "----\n",
      "  Tanise              ;  Cinary              ;  Carsa               ;  Aumeabol            ;  Morgeen             ;  Korsom              ;  Marie               ;  Medle               ;  Alqusoltb           ;  Angie                \n",
      "----\n",
      "Epoch 8 average loss = 0.8347644043893852\n",
      "Generated names\n",
      "----\n",
      "  Kolmie              ;  SontdoV             ;  Milere              ;  Chretia             ;  Jos                 ;  Ricka               ;  Clinne              ;  Fralrsis            ;  Machynce            ;  Rolelwy              \n",
      "----\n",
      "Epoch 9 average loss = 0.8295765398689358\n",
      "Generated names\n",
      "----\n",
      "  Emil                ;  Fetily              ;  Fanlien             ;  Liua                ;  Medrlone            ;  Dolgem              ;  Sey                 ;  German              ;  Atky                ;  Curhers              \n",
      "----\n",
      "Epoch 10 average loss = 0.8267417165324655\n",
      "Generated names\n",
      "----\n",
      "  Corty               ;  Judra               ;  Achery              ;  Diphena             ;  Bynar               ;  Chighar             ;  Krila               ;  Melpicoa            ;  Reva                ;  Kilia                \n",
      "----\n",
      "Epoch 11 average loss = 0.818835876527019\n",
      "Generated names\n",
      "----\n",
      "  Kamlee              ;  Fabdiana            ;  Cas'                ;  Sures               ;  Amince              ;  Baria               ;  Labonie             ;  Lonrol              ;  Nale                ;  Maelmeu              \n",
      "----\n",
      "Epoch 12 average loss = 0.8155498115940018\n",
      "Generated names\n",
      "----\n",
      "  Vartan              ;  Elarea              ;  Asurto              ;  Calla               ;  Cimithard           ;  Bermiph             ;  Matliig             ;  Oallia              ;  Maera               ;  Brona                \n",
      "----\n",
      "Epoch 13 average loss = 0.8156595989553426\n",
      "Generated names\n",
      "----\n",
      "  Jickic              ;  Gerrety             ;  Wakmia              ;  Marbince            ;  Itgelly             ;  Carlie              ;  Jaudri              ;  Baahroi             ;  Marele              ;  Tevi                 \n",
      "----\n",
      "Epoch 14 average loss = 0.808995918280976\n",
      "Generated names\n",
      "----\n",
      "  Rochewander         ;  Kerdione            ;  Keraneh             ;  Neriann             ;  Moretauk            ;  Klay                ;  Derbina             ;  Neevoy              ;  Fyrdie              ;  Pharda               \n",
      "----\n",
      "Epoch 15 average loss = 0.8050194239793548\n",
      "Generated names\n",
      "----\n",
      "  Lenue               ;  Haidod              ;  Caren               ;  Omana               ;  Jeste               ;  Anbelin             ;  Stitly              ;  Wir                 ;  rylina              ;  Temmali              \n",
      "----\n",
      "Epoch 16 average loss = 0.802916665236106\n",
      "Generated names\n",
      "----\n",
      "  Dulanin             ;  Ilatra              ;  Embin               ;  Korsotia            ;  Glelp               ;  Margi               ;  Stindeed            ;  Sharvi              ;  Warlyn              ;  Retia                \n",
      "----\n",
      "Epoch 17 average loss = 0.793855657411712\n",
      "Generated names\n",
      "----\n",
      "  Lownae              ;  Shacqia             ;  Harne               ;  Osteande            ;  Katine              ;  Flerice             ;  Sulie               ;  Shirka              ;  Tharoy              ;  Ellie                \n",
      "----\n",
      "Epoch 18 average loss = 0.7938688400592656\n",
      "Generated names\n",
      "----\n",
      "  Avolick             ;  Doerre              ;  Roly                ;  Shua                ;  Estanne             ;  Oelmarel            ;  Colline             ;  Whrista             ;  Marie               ;  Ctasd                \n",
      "----\n",
      "Epoch 19 average loss = 0.7874482587061816\n",
      "Generated names\n",
      "----\n",
      "  Marsie              ;  Sheanden            ;  Marre               ;  Coig                ;  Coly                ;  Watonny             ;  Riccie              ;  Ardikine            ;  Yanbeed             ;  Tougerta             \n",
      "----\n",
      "Epoch 20 average loss = 0.7796485815991999\n",
      "Generated names\n",
      "----\n",
      "  Coriond             ;  Mayzia              ;  Elean               ;  Lery                ;  Tislit              ;  Tor                 ;  Chaod               ;  Tlerwia             ;  Athord              ;  Lomei                \n",
      "----\n",
      "Epoch 21 average loss = 0.7880457474360104\n",
      "Generated names\n",
      "----\n",
      "  Clersina            ;  Risen               ;  Gabnerre            ;  Willy               ;  Alyne               ;  Bihni               ;  Haiar               ;  Nitday              ;  Daudie              ;  Emian                \n",
      "----\n",
      "Epoch 22 average loss = 0.7854870421894941\n",
      "Generated names\n",
      "----\n",
      "  Sinolline           ;  Zanne               ;  Pillez              ;  Tacil               ;  Abele               ;  Robellia            ;  Avelyn              ;  Domes               ;  Idalene             ;  Cendy                \n",
      "----\n",
      "Epoch 23 average loss = 0.7808372904811987\n",
      "Generated names\n",
      "----\n",
      "  Licqfiet            ;  Doi                 ;  Wianda              ;  JoraP               ;  Shmerti             ;  Zali                ;  Byod                ;  Margy               ;  Chirilia            ;  Malgi                \n",
      "----\n",
      "Epoch 24 average loss = 0.7834908848717892\n",
      "Generated names\n",
      "----\n",
      "  Rumea               ;  Ala-kicca           ;  Raceh               ;  Brodetty            ;  Ezalie              ;  Borri               ;  Favina              ;  Cerrianke           ;  Doda                ;  Pmilina              \n",
      "----\n",
      "Epoch 25 average loss = 0.7795954851326928\n",
      "Generated names\n",
      "----\n",
      "  Sker                ;  Melica              ;  Jonetty             ;  Ammoda              ;  Mickoro             ;  Sundall             ;  Veem                ;  GelfaMiplell        ;  Sibdalia            ;  Tedile               \n",
      "----\n",
      "Epoch 26 average loss = 0.777480594024203\n",
      "Generated names\n",
      "----\n",
      "  Barn                ;  Sanamda             ;  Chbinsi             ;  Rusami              ;  Janna               ;  Ninkine             ;  Harrias             ;  Pemaro              ;  Tunette             ;  Tabaret              \n",
      "----\n"
     ]
    },
    {
     "name": "stdout",
     "output_type": "stream",
     "text": [
      "Epoch 27 average loss = 0.7765190340343355\n",
      "Generated names\n",
      "----\n",
      "  Barryree            ;  Viles               ;  Peshen              ;  Abfrin              ;  Neha                ;  Lariante            ;  Siryca              ;  Mardrinca           ;  Wwidel              ;  Kacy                 \n",
      "----\n",
      "Epoch 28 average loss = 0.7748298331777\n",
      "Generated names\n",
      "----\n",
      "  Halbay              ;  Ellimold            ;  Omrina              ;  Bersan              ;  Jeard               ;  Blee                ;  Harine              ;  Anna                ;  Jenni               ;  Guist                \n",
      "----\n",
      "Epoch 29 average loss = 0.7722515556613343\n",
      "Generated names\n",
      "----\n",
      "  Fynney              ;  Frence              ;  Muina               ;  Soliane             ;  Mealler             ;  Jegen               ;  Doara               ;  Mwacquen            ;  Hasdi               ;  Tembit               \n",
      "----\n",
      "Epoch 30 average loss = 0.7739906765028202\n",
      "Generated names\n",
      "----\n",
      "  Aprajey             ;  Blirissa            ;  Thannette           ;  Stafhi              ;  Likk                ;  Roni                ;  Cavyan              ;  Disri               ;  Sisp                ;  Thutheste            \n",
      "----\n",
      "Epoch 31 average loss = 0.7750840173095429\n",
      "Generated names\n",
      "----\n",
      "  Terlliny            ;  Deyanna             ;  Jeni                ;  Noste               ;  Ardy                ;  Morcics             ;  Poxs                ;  Hally               ;  Samine              ;  Resayne              \n",
      "----\n",
      "Epoch 32 average loss = 0.7707428428894033\n",
      "Generated names\n",
      "----\n",
      "  Vettha              ;  Jacilye             ;  Chadnal             ;  Sanna               ;  Caci                ;  Mostie              ;  Merielte            ;  Mandell             ;  Briste              ;  Meug                 \n",
      "----\n",
      "Epoch 33 average loss = 0.7615104196408053\n",
      "Generated names\n",
      "----\n",
      "  Vorie               ;  Maylin              ;  Borna               ;  Pryne               ;  Stoderkary          ;  Marielene           ;  Monag               ;  Rotyla              ;  Vionan              ;  Bryt                 \n",
      "----\n",
      "Epoch 34 average loss = 0.7633415642615355\n",
      "Generated names\n",
      "----\n",
      "  Talo                ;  Flarne              ;  Vimonta             ;  Annea               ;  Dannen              ;  Edsindwne           ;  Nison               ;  Clordeon            ;  Flistabett          ;  Bedris               \n",
      "----\n",
      "Epoch 35 average loss = 0.7616835314892103\n",
      "Generated names\n",
      "----\n",
      "  Lintlfan            ;  Creadarid           ;  Beafu               ;  Dollink             ;  Geiphol             ;  Caslany             ;  Barcell             ;  Chvyss              ;  Besth               ;  Eubel                \n",
      "----\n",
      "Epoch 36 average loss = 0.7569406470874592\n",
      "Generated names\n",
      "----\n",
      "  Ribbadite           ;  Ally                ;  Almidia             ;  Painis              ;  Ollulon             ;  Spiaflarink         ;  Isall               ;  Melinia             ;  ToreaMi             ;  Alma                 \n",
      "----\n",
      "Epoch 37 average loss = 0.763091132286644\n",
      "Generated names\n",
      "----\n",
      "  Maracqua            ;  Colly               ;  Naci                ;  Visgerthef          ;  Beleene             ;  Villis              ;  Dem                 ;  Atmarta             ;  Josen               ;  Erielle              \n",
      "----\n",
      "Epoch 38 average loss = 0.7636634390649463\n",
      "Generated names\n",
      "----\n",
      "  Hanna               ;  Valy                ;  Fandre              ;  Alynesta            ;  Borrin              ;  Adellet             ;  Josy                ;  Dornie              ;  Riczand             ;  Bendolla             \n",
      "----\n",
      "Epoch 39 average loss = 0.7595523971543008\n",
      "Generated names\n",
      "----\n",
      "  Merineancdina       ;  Kingy               ;  Shanin              ;  Jeane               ;  Tamo                ;  Jenkield            ;  Duvesten            ;  Meladiga            ;  Thane               ;  Lolinore             \n",
      "----\n",
      "Epoch 40 average loss = 0.7576825481259322\n",
      "Generated names\n",
      "----\n",
      "  Laura               ;  Ummata              ;  Emmie               ;  Piles               ;  Junile              ;  Tenni               ;  Aebent              ;  Epta                ;  Marthy              ;  Forka                \n",
      "----\n",
      "Epoch 41 average loss = 0.7590192127246693\n",
      "Generated names\n",
      "----\n",
      "  Jachyann            ;  Jomein              ;  Teb                 ;  rele                ;  Rasell              ;  Gavenarin           ;  Angy                ;  Katilyna            ;  Malie               ;  Duina                \n",
      "----\n",
      "Epoch 42 average loss = 0.7600800577745711\n",
      "Generated names\n",
      "----\n",
      "  Cij                 ;  Harrite             ;  Limana              ;  Merin               ;  Rutia               ;  Bearmie             ;  Maxit               ;  Jomey               ;  Royna               ;  Palsa                \n",
      "----\n",
      "Epoch 43 average loss = 0.7573358983949184\n",
      "Generated names\n",
      "----\n",
      "  Natoed              ;  Timfin              ;  Singatie            ;  Cori                ;  Marico              ;  Chackie             ;  Radda               ;  Budederl            ;  Havor               ;  Elnea                \n",
      "----\n",
      "Epoch 44 average loss = 0.7565003973246226\n",
      "Generated names\n",
      "----\n",
      "  Molishe             ;  Halone              ;  Payda               ;  Elband              ;  Patshan             ;  Mare                ;  Iar                 ;  Bebdotta            ;  Singy               ;  Lathie               \n",
      "----\n",
      "Epoch 45 average loss = 0.760121894228423\n",
      "Generated names\n",
      "----\n",
      "  Deony               ;  Kandy               ;  Estovio             ;  Zegph               ;  Gilide              ;  Landia              ;  Colferd             ;  Cony                ;  Florrus             ;  Thust                \n",
      "----\n",
      "Epoch 46 average loss = 0.7582680795687328\n",
      "Generated names\n",
      "----\n",
      "  Maari               ;  Dormorn             ;  Maya                ;  Cockiy              ;  Harnie              ;  Horsinn             ;  Adella              ;  Chacesta            ;  Sardelim            ;  Pamler               \n",
      "----\n",
      "Epoch 47 average loss = 0.7516799384526515\n",
      "Generated names\n",
      "----\n",
      "  Karnell             ;  Dammille            ;  Pettah              ;  Clormenne           ;  Marty               ;  Nataliline          ;  Ragon               ;  Nyce                ;  Mussi               ;  Ilecka               \n",
      "----\n",
      "Epoch 48 average loss = 0.7555893114453709\n",
      "Generated names\n",
      "----\n",
      "  Arette              ;  Nadre               ;  Hany                ;  Jonelly             ;  Doraw               ;  Blane               ;  Forie               ;  Zcpelpy             ;  Jocemer             ;  Many                 \n",
      "----\n",
      "Epoch 49 average loss = 0.7475277955012093\n",
      "Generated names\n",
      "----\n",
      "  Torttor             ;  Gettias             ;  Pandyn              ;  Wellica             ;  Rondalina           ;  Carwain             ;  Bresta              ;  Dalvanne            ;  Mexia               ;  Leerl                \n",
      "----\n",
      "Epoch 50 average loss = 0.7525537413292543\n",
      "Generated names\n",
      "----\n",
      "  Robette             ;  Kaim                ;  Arnay               ;  Maryphell           ;  Steme               ;  Torina              ;  Mordin              ;  Corty               ;  Ulk                 ;  Andana               \n",
      "----\n",
      "Epoch 51 average loss = 0.7487445586467707\n",
      "Generated names\n",
      "----\n",
      "  Zhrade              ;  Alina               ;  Brige               ;  Doretta             ;  Jena                ;  Sheltie             ;  Quhilin             ;  Brrygus             ;  Catt                ;  Jawaa                \n",
      "----\n",
      "Epoch 52 average loss = 0.7437893045481723\n",
      "Generated names\n",
      "----\n",
      "  Jeste               ;  Kill                ;  Clinny              ;  Merleet             ;  Francie             ;  JaciDline           ;  Charil              ;  Meug                ;  Garry               ;  Cossaie              \n",
      "----\n",
      "Epoch 53 average loss = 0.7492014337846142\n",
      "Generated names\n",
      "----\n",
      "  Qukisi              ;  Dawe                ;  Salmor              ;  Worwa               ;  Nicianne            ;  Miin                ;  Rova                ;  Macelli             ;  Jeldere             ;  Pevan                \n",
      "----\n",
      "Epoch 54 average loss = 0.7441572754618194\n",
      "Generated names\n",
      "----\n",
      "  Winsomm             ;  Vallie              ;  Carmolph            ;  Caila               ;  Bengien             ;  Lycessa             ;  Tyma                ;  Hadon               ;  Neste               ;  Mantie               \n",
      "----\n"
     ]
    },
    {
     "name": "stdout",
     "output_type": "stream",
     "text": [
      "Epoch 55 average loss = 0.7424656302952434\n",
      "Generated names\n",
      "----\n",
      "  Skaurte             ;  Alta                ;  Elriquel            ;  Gilliett            ;  Esgeette            ;  Tlorige             ;  Dann-Gurssy         ;  Panyse              ;  Robie               ;  Darie                \n",
      "----\n",
      "Epoch 56 average loss = 0.7454250513673265\n",
      "Generated names\n",
      "----\n",
      "  Jonnel              ;  Margile             ;  Zone                ;  Erisiga             ;  Aidin               ;  Franicque           ;  Argen               ;  Kad                 ;  Jollie              ;  Deattha              \n",
      "----\n",
      "Epoch 57 average loss = 0.7449887632578637\n",
      "Generated names\n",
      "----\n",
      "  Kipa                ;  Nikci               ;  Darshar             ;  Silfore             ;  Mariam              ;  Emmain              ;  Ninella             ;  Britline            ;  Lelamon             ;  Caretta              \n",
      "----\n",
      "Epoch 58 average loss = 0.7475468848454389\n",
      "Generated names\n",
      "----\n",
      "  Gabbryn             ;  Calene              ;  Kally               ;  Sifme               ;  Adati               ;  Rudylla             ;  Cardeanna           ;  Nazen               ;  Charlel             ;  Refe                 \n",
      "----\n",
      "Epoch 59 average loss = 0.7443731416075704\n",
      "Generated names\n",
      "----\n",
      "  Merukor             ;  Ulitanora           ;  Fay                 ;  Mitti               ;  Marcy               ;  Jeank               ;  Cadmelle            ;  Ren                 ;  Barrits             ;  Quirmoy              \n",
      "----\n",
      "Epoch 60 average loss = 0.7437918165619952\n",
      "Generated names\n",
      "----\n",
      "  Mulle               ;  Antigal        e    ;  Valily              ;  Svanee              ;  Jac                 ;  Gratce              ;  Kara                ;  Whirill             ;  Amella              ;  Deina                \n",
      "----\n",
      "Epoch 61 average loss = 0.7442122137078773\n",
      "Generated names\n",
      "----\n",
      "  Jascheer            ;  Adrinie             ;  Carona              ;  Antonil             ;  Phy                 ;  Royne               ;  Endibard            ;  Oretta              ;  Hekie               ;  Geollyne             \n",
      "----\n",
      "Epoch 62 average loss = 0.7407249276033029\n",
      "Generated names\n",
      "----\n",
      "  Fronn               ;  Simy                ;  Patsela             ;  Laurye              ;  Aryssy              ;  Sanmand             ;  Luceyne             ;  Davilina            ;  Thichee             ;  Erwra                \n",
      "----\n",
      "Epoch 63 average loss = 0.74591727235865\n",
      "Generated names\n",
      "----\n",
      "  Marthri             ;  Himmy               ;  Adie                ;  Lyndanne            ;  Darella             ;  Har                 ;  Dind                ;  Fire                ;  Athrominas          ;  Ardela               \n",
      "----\n",
      "Epoch 64 average loss = 0.7410276139147155\n",
      "Generated names\n",
      "----\n",
      "  Therlith            ;  Hanri               ;  Gelporne            ;  Peydi               ;  Stapelle            ;  Eurad               ;  Alwerti             ;  Shylla              ;  Gredmus             ;  Joreanne             \n",
      "----\n",
      "Epoch 65 average loss = 0.7384573973791544\n",
      "Generated names\n",
      "----\n",
      "  Marniqeen           ;  Gloi                ;  Tinyn               ;  Nindy               ;  Gedbica             ;  Nornish             ;  Tith                ;  Thellee             ;  Rehelfa             ;  Geugfisha            \n",
      "----\n",
      "Epoch 66 average loss = 0.745276928545862\n",
      "Generated names\n",
      "----\n",
      "  Alvere              ;  Aldenah             ;  Roshahan            ;  Tebpretd            ;  Elthres             ;  buen                ;  Epfrod              ;  Vinna               ;  Floricte            ;  Mareto               \n",
      "----\n",
      "Epoch 67 average loss = 0.7418558897857436\n",
      "Generated names\n",
      "----\n",
      "  Gekharie            ;  Gilbor              ;  Adsonia             ;  Jelle               ;  Balelo              ;  Mayleo              ;  Maroena             ;  Buncettenke         ;  Krain               ;  Kaylee               \n",
      "----\n",
      "Epoch 68 average loss = 0.7420480812330144\n",
      "Generated names\n",
      "----\n",
      "  Tilline             ;  Gelpren             ;  Killa               ;  Mitima              ;  Ervel               ;  Shem                ;  Porry               ;  Allis               ;  Seance              ;  AbD                  \n",
      "----\n",
      "Epoch 69 average loss = 0.7355549317857505\n",
      "Generated names\n",
      "----\n",
      "  Firvaulina          ;  Brin                ;  Bettie              ;  Adrianto            ;  Brian               ;  Zarlon              ;  Thephet             ;  Derela              ;  Bleoda              ;  Nalen                \n",
      "----\n",
      "Epoch 70 average loss = 0.742132080552172\n",
      "Generated names\n",
      "----\n",
      "  Sutlin              ;  Mattly              ;  Pielly              ;  Phrimia             ;  Harrona             ;  Waydeld             ;  Orshell             ;  Ulindo              ;  Za                  ;  Valid                \n",
      "----\n",
      "Epoch 71 average loss = 0.7375066535442961\n",
      "Generated names\n",
      "----\n",
      "  Linna               ;  Bevori              ;  Dolinett            ;  Crattond            ;  Durstet             ;  Shylina             ;  Wresca              ;  Crev                ;  Redinians           ;  Dilinzrone           \n",
      "----\n",
      "Epoch 72 average loss = 0.7367476073117947\n",
      "Generated names\n",
      "----\n",
      "  Helt                ;  Madd                ;  Sesa                ;  Laad                ;  Comioncy            ;  Rosinal             ;  Rosie               ;  Shanah              ;  Jedelina            ;  Murike               \n",
      "----\n",
      "Epoch 73 average loss = 0.7377697627690885\n",
      "Generated names\n",
      "----\n",
      "  Chandald            ;  Marias              ;  Maleiashe           ;  Dee                 ;  Cimmie              ;  Waller              ;  Dorlane             ;  Darce               ;  Brichelle           ;  Marianna             \n",
      "----\n",
      "Epoch 74 average loss = 0.7348837878356002\n",
      "Generated names\n",
      "----\n",
      "  Gevange             ;  Payto               ;  Gie                 ;  Roben               ;  Hircerne            ;  Darisina            ;  Eriecque            ;  Mircondy            ;  Crest               ;  Ctrifie              \n",
      "----\n",
      "Epoch 75 average loss = 0.7369019065687501\n",
      "Generated names\n",
      "----\n",
      "  Millise             ;  Tepik               ;  Noebenc             ;  Chrristodia         ;  Zevrina             ;  Forvor              ;  Gelsie              ;  Jonnuel             ;  Arnella             ;  Teriana              \n",
      "----\n",
      "Epoch 76 average loss = 0.7293324836653213\n",
      "Generated names\n",
      "----\n",
      "  Giafford            ;  Forganie            ;  Chancy              ;  Alida               ;  Sharlia             ;  Chelys              ;  Shanen              ;  Speffer             ;  Chrissace           ;  Charyem              \n",
      "----\n",
      "Epoch 77 average loss = 0.7268342315995066\n",
      "Generated names\n",
      "----\n",
      "  Cass                ;  Janobe              ;  Chandon             ;  Reania              ;  Luletta             ;  Tristephe           ;  Larnie              ;  Lino                ;  Chrita              ;  Esrier               \n",
      "----\n",
      "Epoch 78 average loss = 0.7309799342243146\n",
      "Generated names\n",
      "----\n",
      "  Ruddy               ;  Sipf                ;  Fair                ;  Sibo                ;  Orgey               ;  Jassius             ;  Hyrna               ;  Wrisi               ;  Cenianten           ;  Shauna               \n",
      "----\n",
      "Epoch 79 average loss = 0.7380325478563133\n",
      "Generated names\n",
      "----\n",
      "  Merrol              ;  Cleye               ;  Henni               ;  Raurri              ;  Chorwi              ;  Tennul              ;  Cander              ;  Kinnt               ;  Yoore               ;  Sawreigh             \n",
      "----\n",
      "Epoch 80 average loss = 0.7318997002960465\n",
      "Generated names\n",
      "----\n",
      "  Salpin              ;  Janie               ;  Kaytlean            ;  Marmera             ;  Anzicee             ;  Colcice             ;  Quedarie            ;  Deynelyne           ;  Juciana             ;  Erty                 \n",
      "----\n",
      "Epoch 81 average loss = 0.7332898629739727\n",
      "Generated names\n",
      "----\n",
      "  Corine              ;  Castie              ;  Ales                ;  Gincha              ;  Kory                ;  Tiperie             ;  Padmill             ;  Lizga               ;  Honnie              ;  Anal                 \n",
      "----\n",
      "Epoch 82 average loss = 0.7307926998766733\n",
      "Generated names\n",
      "----\n",
      "  Tevo                ;  Dorrin              ;  Heorica             ;  Dewnit              ;  Doador              ;  Harjina             ;  Inette              ;  Carpros             ;  Laurie              ;  Devena               \n",
      "----\n"
     ]
    },
    {
     "name": "stdout",
     "output_type": "stream",
     "text": [
      "Epoch 83 average loss = 0.7304336039229218\n",
      "Generated names\n",
      "----\n",
      "  Thitcy              ;  Cashoy              ;  Radie               ;  Clarisa             ;  Elles               ;  Allisa              ;  Tirvy               ;  Idara               ;  Valanna             ;  Lonnita              \n",
      "----\n",
      "Epoch 84 average loss = 0.7293444768756319\n",
      "Generated names\n",
      "----\n",
      "  Maes                ;  Jerdi               ;  Kat                 ;  Cindie              ;  Miltho              ;  Cindy               ;  Orianie             ;  Jysen               ;  Larlene             ;  Stixanne             \n",
      "----\n",
      "Epoch 85 average loss = 0.7305250353779517\n",
      "Generated names\n",
      "----\n",
      "  Carnisle            ;  Amma                ;  Athi                ;  Scinde              ;  Louganitha          ;  Tura                ;  Ondana              ;  Nice                ;  Ria                 ;  Fredres              \n",
      "----\n",
      "Epoch 86 average loss = 0.734324741503784\n",
      "Generated names\n",
      "----\n",
      "  Donwette            ;  Soshl               ;  Woddie              ;  Abeor               ;  Hev                 ;  Sats                ;  Laurel              ;  Amny                ;  Rolynne             ;  Neoce                \n",
      "----\n",
      "Epoch 87 average loss = 0.726846269459451\n",
      "Generated names\n",
      "----\n",
      "  Jolb                ;  Ajemene             ;  Grix                ;  Abdela              ;  Sterthy             ;  Fabdit              ;  Reul                ;  Lewille             ;  Luclif              ;  Gar                  \n",
      "----\n",
      "Epoch 88 average loss = 0.7274632880982737\n",
      "Generated names\n",
      "----\n",
      "  Werdon              ;  Cobery              ;  Muros               ;  Cindie              ;  Pima                ;  Tabon               ;  Kynno               ;  Roeeva              ;  Cynnil              ;  Timy                 \n",
      "----\n",
      "Epoch 89 average loss = 0.7262717151593159\n",
      "Generated names\n",
      "----\n",
      "  Nonace              ;  Lichi               ;  Anda                ;  Katselyne           ;  Pranel              ;  Rolyna              ;  Nollie              ;  Elorora             ;  Condalley           ;  Emme                 \n",
      "----\n",
      "Epoch 90 average loss = 0.7278291130878098\n",
      "Generated names\n",
      "----\n",
      "  Dorje               ;  Jaanne              ;  Leann               ;  Doa                 ;  Esiala              ;  Vissatten           ;  Grade               ;  Cania               ;  Matro-Pon           ;  Girree               \n",
      "----\n",
      "Epoch 91 average loss = 0.7269889783615847\n",
      "Generated names\n",
      "----\n",
      "  Andatt              ;  Kristy              ;  Elonda              ;  Kavs                ;  Mahel               ;  Dori                ;  Leonre              ;  Gillie              ;  Ozelli              ;  Effripsa             \n",
      "----\n",
      "Epoch 92 average loss = 0.732492600599986\n",
      "Generated names\n",
      "----\n",
      "  Elvera              ;  Nalle               ;  Patelle             ;  Od                  ;  Damo                ;  Janeom              ;  Sonetta             ;  Carpon              ;  Habia               ;  Kriase               \n",
      "----\n",
      "Epoch 93 average loss = 0.7302611328871427\n",
      "Generated names\n",
      "----\n",
      "  Wyndrey             ;  Verti               ;  Chrisita            ;  Baidord             ;  Navy                ;  Wia                 ;  Jess                ;  Emmoly              ;  Blinnson            ;  Franceed             \n",
      "----\n",
      "Epoch 94 average loss = 0.7298233712297991\n",
      "Generated names\n",
      "----\n",
      "  Cilberdic           ;  Litky               ;  Ginnisse            ;  Vinner              ;  Maxymie             ;  Renah               ;  Laineld             ;  Porlla              ;  Rob                 ;  Sterneud             \n",
      "----\n",
      "Epoch 95 average loss = 0.7202682725740146\n",
      "Generated names\n",
      "----\n",
      "  Kia                 ;  Shalleo             ;  Worde               ;  Babby               ;  Pita                ;  Fradie              ;  Lucol               ;  Jinetta             ;  Viutina             ;  Wilen                \n",
      "----\n",
      "Epoch 96 average loss = 0.728723494990325\n",
      "Generated names\n",
      "----\n",
      "  Gustinne            ;  Iscie               ;  Andras              ;  Charlean            ;  Kadwor              ;  Cenna               ;  Celid               ;  Gelsiaph            ;  Wilfer              ;  Karille              \n",
      "----\n",
      "Epoch 97 average loss = 0.728405051837729\n",
      "Generated names\n",
      "----\n",
      "  Walimeon            ;  Katsie              ;  Lundan              ;  Erysa               ;  Nolide              ;  Marys               ;  Chrristah           ;  Caraavor            ;  Gerdi               ;  Colonde              \n",
      "----\n",
      "Epoch 98 average loss = 0.7268613384690412\n",
      "Generated names\n",
      "----\n",
      "  Cherby              ;  Tamm                ;  Nalabe              ;  Jeane               ;  Liska               ;  Pinig               ;  Shany               ;  Walynn              ;  Paty                ;  Belia                \n",
      "----\n",
      "Epoch 99 average loss = 0.726718684307973\n"
     ]
    }
   ],
   "source": [
    "\n",
    "print(\"Training ...\")\n",
    "\n",
    "\n",
    "#total N iterations\n",
    "n_epochs=100\n",
    "\n",
    "# how many minibatches are there in the epoch \n",
    "batches_per_epoch = 500\n",
    "\n",
    "#how many training sequences are processed in a single function call\n",
    "batch_size=10\n",
    "\n",
    "\n",
    "for epoch in range(n_epochs):\n",
    "\n",
    "    print( \"Generated names\")\n",
    "    generate_sample(n_snippets=10)\n",
    "\n",
    "    avg_cost = 0;\n",
    "    \n",
    "    for _ in range(batches_per_epoch):\n",
    "        \n",
    "        x,y = sample_batch(names_ix,batch_size)\n",
    "        avg_cost += train(x, y)\n",
    "        \n",
    "    print(\"Epoch {} average loss = {}\".format(epoch, avg_cost / batches_per_epoch))\n",
    "\n"
   ]
  },
  {
   "cell_type": "code",
   "execution_count": null,
   "metadata": {
    "collapsed": true
   },
   "outputs": [],
   "source": []
  },
  {
   "cell_type": "code",
   "execution_count": 24,
   "metadata": {},
   "outputs": [
    {
     "name": "stdout",
     "output_type": "stream",
     "text": [
      "----\n",
      "  Deonten             ;  Ducke               ;  Hora                ;  Nota                ;  Seletta             ;  Toda                ;  Alesa               ;  Bryne               ;  Helemey             ;  Merghett            ;  Ulison              ;  Meddi               ;  Gridar              ;  Tassel              ;  Tunzie              ;  Salilandro          ;  Coari               ;  Notery              ;  Vicky               ;  Aberice             ;  Sivel               ;  Annabadine          ;  Brandila            ;  Lin                 ;  Matthi              ;  Rosela              ;  Pebe                ;  Pinnie              ;  Haltey              ;  Teadge              ;  sana                ;  Hichell             ;  Hilbeus             ;  Berana              ;  Leance              ;  Cashy               ;  Vicelineut          ;  Lia                 ;  Galdie              ;  Mergeriel           ;  Panett              ;  Hilbert             ;  Ischelley           ;  Lina                ;  Mincelle            ;  Leke                ;  Alele               ;  Fenni               ;  Aber                ;  Giancetce           ;  Led                 ;  Marcello            ;  Loerie              ;  Tubela              ;  Elise               ;  Loual               ;  Tiullyn             ;  Marile              ;  Ricolyna            ;  Emlenka             ;  Ulweruilse          ;  Evin-royal          ;  Jacinta             ;  Kathelia            ;  Mermine             ;  Mik                 ;  Thacki              ;  Dobine              ;  Katoria             ;  Patce               ;  Daleste             ;  Soyna               ;  Carah               ;  Patthen             ;  Willel              ;  Shelli              ;  Ingi                ;  Teoph-redie         ;  Ardy                ;  Emilee              ;  Lunil               ;  Perrien             ;  Amelina             ;  Cotlillah           ;  Pirvie              ;  Reblowd             ;  Iielya              ;  Maggbomrose         ;  Ruhanne             ;  Doelia              ;  Quitf               ;  Thentan             ;  Rudie               ;  Hanan               ;  Linna               ;  Nolan               ;  Moeline             ;  Frygucde            ;  Felic               ;  Hirill               \n",
      "----\n"
     ]
    }
   ],
   "source": [
    "generate_sample(n_snippets=100)"
   ]
  },
  {
   "cell_type": "code",
   "execution_count": 25,
   "metadata": {},
   "outputs": [
    {
     "name": "stdout",
     "output_type": "stream",
     "text": [
      "----\n",
      "  Alex                 ;  Antoena              ;  Aline                ;  Anzrone              ;  Almin                ;  Aimilyn              ;  Aimi                 ;  Aidoldy              ;  Andmor               ;  Andelive              \n",
      "----\n"
     ]
    }
   ],
   "source": [
    "generate_sample(seed_phrase=\" A\",n_snippets=10)"
   ]
  },
  {
   "cell_type": "code",
   "execution_count": 29,
   "metadata": {},
   "outputs": [
    {
     "name": "stdout",
     "output_type": "stream",
     "text": [
      "----\n",
      " Alexa                   ; Alexarda                ; Alexarrar               ; Alexhunssand            ; Alexella                ; Alexadi                 ; Alexiula                ; Alexandon               ; Alexadie                ; Alexa-Marvin             \n",
      "----\n"
     ]
    }
   ],
   "source": [
    "generate_sample(seed_phrase=\"Alex\",n_snippets=10,t=1.0)"
   ]
  },
  {
   "cell_type": "code",
   "execution_count": null,
   "metadata": {
    "collapsed": true
   },
   "outputs": [],
   "source": []
  },
  {
   "cell_type": "markdown",
   "metadata": {
    "collapsed": true
   },
   "source": [
    "### Bonus: try it out!\n",
    "You've just implemented a recurrent language model that can be tasked with generating any kind of sequence, so there's plenty of data you can try it on:\n",
    "\n",
    "* Novels/poems/songs of your favorite author\n",
    "* News titles/clickbait titles\n",
    "* Source code of Linux or Tensorflow\n",
    "* Molecules in [smiles](https://en.wikipedia.org/wiki/Simplified_molecular-input_line-entry_system) format\n",
    "* Melody in notes/chords format\n",
    "* Ikea catalog titles\n",
    "* Pokemon names\n",
    "* Cards from Magic, the Gathering / Hearthstone\n",
    "\n",
    "If you're willing to give it a try, here's what you wanna look at:\n",
    "* Current data format is a sequence of lines, so a novel can be formatted as a list of sentences. Alternatively, you can change data preprocessing altogether.\n",
    "* While some datasets are readily available, others can only be scraped from the web. Try `Selenium` or `Scrapy` for that.\n",
    "* Make sure MAX_LENGTH is adjusted for longer datasets. There's also a bonus section about dynamic RNNs at the bottom.\n",
    "* More complex tasks require larger RNN architecture, try more neurons or several layers. It would also require more training iterations.\n",
    "* Long-term dependencies in music, novels or molecules are better handled with LSTM or GRU\n",
    "\n",
    "__Good hunting!__"
   ]
  }
 ],
 "metadata": {
  "kernelspec": {
   "display_name": "Python 3",
   "language": "python",
   "name": "python3"
  },
  "language_info": {
   "codemirror_mode": {
    "name": "ipython",
    "version": 3
   },
   "file_extension": ".py",
   "mimetype": "text/x-python",
   "name": "python",
   "nbconvert_exporter": "python",
   "pygments_lexer": "ipython3",
   "version": "3.6.1"
  }
 },
 "nbformat": 4,
 "nbformat_minor": 1
}
